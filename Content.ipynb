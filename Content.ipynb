# Books

## Deep learning theory and python
1. Dive into deep learning [https://d2l.ai/]
   Chinese version http://zh.gluon.ai/chapter_preface/preface.html
   
   
   
## Programming
1. Clean code  [http://zh.gluon.ai/chapter_preface/preface.html]
